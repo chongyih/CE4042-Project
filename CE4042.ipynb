{
 "cells": [
  {
   "cell_type": "code",
   "execution_count": 1,
   "id": "c430868f",
   "metadata": {},
   "outputs": [],
   "source": [
    "import numpy as np\n",
    "import pandas as pd\n",
    "import matplotlib.pyplot as plt\n",
    "import time\n",
    "from tqdm import tqdm\n",
    "\n",
    "import torch\n",
    "import torch.nn as nn\n",
    "import torch.optim as optim\n",
    "from torch.utils.data import Dataset, DataLoader\n",
    "import torchvision\n",
    "import torchvision.transforms as transforms\n",
    "\n",
    "from torch.utils.tensorboard import SummaryWriter"
   ]
  },
  {
   "cell_type": "code",
   "execution_count": 2,
   "id": "b8319529",
   "metadata": {},
   "outputs": [
    {
     "data": {
      "text/html": [
       "\n",
       "      <iframe id=\"tensorboard-frame-bf12aeb1f2893417\" width=\"100%\" height=\"800\" frameborder=\"0\">\n",
       "      </iframe>\n",
       "      <script>\n",
       "        (function() {\n",
       "          const frame = document.getElementById(\"tensorboard-frame-bf12aeb1f2893417\");\n",
       "          const url = new URL(\"/\", window.location);\n",
       "          const port = 8008;\n",
       "          if (port) {\n",
       "            url.port = port;\n",
       "          }\n",
       "          frame.src = url;\n",
       "        })();\n",
       "      </script>\n",
       "    "
      ],
      "text/plain": [
       "<IPython.core.display.HTML object>"
      ]
     },
     "metadata": {},
     "output_type": "display_data"
    }
   ],
   "source": [
    "# Tensorboard magic, remember to set your host and port, then forward them\n",
    "# You can set reload data under settings to see data update as you run your model\n",
    "%load_ext tensorboard\n",
    "%tensorboard --logdir logs/tensorboard --host=10.128.10.16 --port=8008"
   ]
  },
  {
   "cell_type": "markdown",
   "id": "79e6f1f7-efb8-426c-b4e2-7a38e61e71e9",
   "metadata": {},
   "source": [
    "# Data Preparation"
   ]
  },
  {
   "cell_type": "code",
   "execution_count": 25,
   "id": "7d8b5720-2e84-4bd5-8a7c-17116b57e79a",
   "metadata": {},
   "outputs": [],
   "source": [
    "def apply_image_transformation(transformation_type=\"standard\", *args, **kwargs):\n",
    "    '''\n",
    "    Apply various image transformations based on the provided transformation_type.\n",
    "\n",
    "    Args:\n",
    "    transformation_type (str): The type of transformation to apply. Supported types are 'standard', 'resize', and 'channel'.\n",
    "    *args: Additional arguments based on the transformation type.\n",
    "    **kwargs: Additional keyword arguments for normalization parameters.\n",
    "\n",
    "    Returns:\n",
    "    transform: A composition of transformations to be applied to the input images.\n",
    "\n",
    "    Raises:\n",
    "    ValueError: If an unsupported transformation type is provided.\n",
    "\n",
    "    '''\n",
    "    if transformation_type == \"standard\":\n",
    "        transform = transforms.Compose([\n",
    "            transforms.ToTensor(),\n",
    "            transforms.Normalize(0.5, 0.5)\n",
    "        ])\n",
    "        return transform\n",
    "\n",
    "    elif transformation_type == \"resize\":\n",
    "        transform = transforms.Compose([\n",
    "            transforms.Resize((224, 224)),\n",
    "            transforms.ToTensor(),\n",
    "            transforms.Normalize(kwargs['mean'], kwargs['std'])\n",
    "        ])\n",
    "        return transform\n",
    "\n",
    "    elif transformation_type == \"channel\":\n",
    "        transform = transforms.Compose([\n",
    "            transforms.Resize(256),\n",
    "            transforms.Resize((224, 224)),\n",
    "            transforms.Grayscale(args[0]),\n",
    "            transforms.ToTensor(),\n",
    "            transforms.Normalize(mean=kwargs['mean'], std=kwargs['std'])\n",
    "        ])\n",
    "        return transform\n",
    "\n",
    "    else:\n",
    "        raise ValueError(\"Invalid transformation type. Supported types are 'normal', 'resize', and 'grayscale'.\")\n",
    "\n",
    "def create_loader(transform, batch_size=32):\n",
    "    '''\n",
    "    Create data loaders for training and testing using the provided transformation.\n",
    "\n",
    "    Args:\n",
    "    transform: The transformation to be applied to the dataset.\n",
    "    batch_size: The batch size of the data loader.\n",
    "\n",
    "    Returns:\n",
    "    train_loader: DataLoader for the training dataset.\n",
    "    test_loader: DataLoader for the testing dataset.\n",
    "\n",
    "    This function imports the FashionMNIST dataset from the torchvision library and applies the provided transformation to the dataset. It then creates data loaders for both the training and testing datasets, considering the specified transformation and other default parameters such as the number of workers and batch size.\n",
    "    '''\n",
    "    # importing training and test sets from torchvision\n",
    "    train_dataset = torchvision.datasets.FashionMNIST(\"./data\", download=True, train=True, transform=transform)\n",
    "    test_dataset = torchvision.datasets.FashionMNIST(\"./data\", download=True, train=False, transform=transform)\n",
    "    \n",
    "    # creating dataloaders\n",
    "    train_loader = DataLoader(train_dataset, shuffle=True, num_workers=2, batch_size=batch_size)\n",
    "    test_loader = DataLoader(test_dataset, shuffle=False, num_workers=2, batch_size=batch_size)\n",
    "\n",
    "    return train_loader, test_loader"
   ]
  },
  {
   "cell_type": "code",
   "execution_count": 26,
   "id": "f798e893-9f7d-48f2-8e7f-34b96a4c3d04",
   "metadata": {},
   "outputs": [],
   "source": [
    "transform = apply_image_transformation('standard')\n",
    "vgg_train_loader, vgg_test_loader = create_loader(transform)\n",
    "\n",
    "transform = apply_image_transformation('resize', mean=(0.1307,), std=(0.3081,))\n",
    "vgg_resize_train_loader, vgg_resize_test_loader = create_loader(transform)\n",
    "\n",
    "transform = apply_image_transformation('channel', 3, mean=[0.485, 0.456, 0.406], std=[0.229, 0.224, 0.225])\n",
    "vgg_channel_train_loader, vgg_channel_test_loader = create_loader(transform)"
   ]
  },
  {
   "cell_type": "code",
   "execution_count": 5,
   "id": "40dd85b7",
   "metadata": {},
   "outputs": [
    {
     "ename": "SyntaxError",
     "evalue": "invalid syntax (<ipython-input-5-46e12d1a69c5>, line 31)",
     "output_type": "error",
     "traceback": [
      "\u001b[0;36m  File \u001b[0;32m\"<ipython-input-5-46e12d1a69c5>\"\u001b[0;36m, line \u001b[0;32m31\u001b[0m\n\u001b[0;31m    transforms.Normalize(kwargs['mean'], kwargs['std']))\u001b[0m\n\u001b[0m                                                       ^\u001b[0m\n\u001b[0;31mSyntaxError\u001b[0m\u001b[0;31m:\u001b[0m invalid syntax\n"
     ]
    }
   ],
   "source": [
    "# defining hyperparameters\n",
    "batch_size = 32\n",
    "\n",
    "def apply_image_transformation(transformation_type=\"standard\", *args, **kwargs):\n",
    "    '''\n",
    "    Apply various image transformations based on the provided transformation_type.\n",
    "\n",
    "    Args:\n",
    "    transformation_type (str): The type of transformation to apply. Supported types are 'standard', 'resize', and 'channel'.\n",
    "    *args: Additional arguments based on the transformation type.\n",
    "    **kwargs: Additional keyword arguments for normalization parameters.\n",
    "\n",
    "    Returns:\n",
    "    transform: A composition of transformations to be applied to the input images.\n",
    "\n",
    "    Raises:\n",
    "    ValueError: If an unsupported transformation type is provided.\n",
    "\n",
    "    '''\n",
    "    if transformation_type == \"standard\":\n",
    "        transform = transforms.Compose([\n",
    "            transforms.ToTensor(),\n",
    "            transforms.Normalize(0.5, 0.5)\n",
    "        ])\n",
    "        return transform\n",
    "\n",
    "    elif transformation_type == \"resize\":\n",
    "        transform = transforms.Compose([\n",
    "            transforms.Resize(args),\n",
    "            transforms.ToTensor(),\n",
    "            transforms.Normalize(kwargs['mean'], kwargs['std']))\n",
    "        ])\n",
    "        return transform\n",
    "\n",
    "    elif transformation_type == \"channel\":\n",
    "        transform = transforms.Compose([\n",
    "            transforms.Resize(256),\n",
    "            transforms.Resize((224, 224)),\n",
    "            transforms.Grayscale(args),\n",
    "            transforms.ToTensor(),\n",
    "            transforms.Normalize(mean=kwargs['mean'], std=kwargs['std']))\n",
    "        ])\n",
    "        return transform\n",
    "\n",
    "    else:\n",
    "        raise ValueError(\"Invalid transformation type. Supported types are 'normal', 'resize', and 'grayscale'.\")\n",
    "\n",
    "def create_loader(transform, batch_size=32):\n",
    "    '''\n",
    "    Create data loaders for training and testing using the provided transformation.\n",
    "\n",
    "    Args:\n",
    "    transform: The transformation to be applied to the dataset.\n",
    "    batch_size: The batch size of \n",
    "\n",
    "    Returns:\n",
    "    train_loader: DataLoader for the training dataset.\n",
    "    test_loader: DataLoader for the testing dataset.\n",
    "\n",
    "    This function imports the FashionMNIST dataset from the torchvision library and applies the provided transformation to the dataset. It then creates data loaders for both the training and testing datasets, considering the specified transformation and other default parameters such as the number of workers and batch size.\n",
    "    '''\n",
    "    # importing training and test sets from torchvision\n",
    "    train_dataset = torchvision.datasets.FashionMNIST(\"./data\", download=True, train=True, transform=transform)\n",
    "    test_dataset = torchvision.datasets.FashionMNIST(\"./data\", download=True, train=False, transform=transform)\n",
    "    \n",
    "    # creating dataloaders\n",
    "    train_loader = DataLoader(train_dataset, shuffle=True, num_workers=2, batch_size=batch_size)\n",
    "    test_loader = DataLoader(test_dataset, shuffle=False, num_workers=2, batch_size=batch_size)\n",
    "\n",
    "    return train_loader, test_loader"
   ]
  },
  {
   "cell_type": "markdown",
   "id": "0fcc8b90-ddf0-4d69-bcc1-c8dc69222099",
   "metadata": {},
   "source": [
    "# Training"
   ]
  },
  {
   "cell_type": "code",
   "execution_count": 30,
   "id": "fba70826",
   "metadata": {},
   "outputs": [],
   "source": [
    "device = \"cuda:0\" if torch.cuda.is_available() else \"cpu\"\n",
    "\n",
    "def train(model, criterion, optimizer, num_epochs, train_loader, test_loader, writer=None):\n",
    "  total_time_taken = 0.0\n",
    "  # Train the model\n",
    "  for epoch in range(num_epochs):\n",
    "    start_time = time.time()\n",
    "    model.train()\n",
    "    train_loss = 0.0\n",
    "    correct = 0\n",
    "    for i, data in enumerate(tqdm(train_loader)):\n",
    "      # Get the inputs and labels\n",
    "      inputs, labels = data\n",
    "      inputs, labels = inputs.to(device), labels.to(device)\n",
    "\n",
    "      # Zero the parameter gradients\n",
    "      optimizer.zero_grad()\n",
    "\n",
    "      # Forward pass\n",
    "      outputs = model(inputs)\n",
    "\n",
    "      # Compute the loss\n",
    "      loss = criterion(outputs, labels)\n",
    "      train_loss += loss.item()\n",
    "\n",
    "      # Backward pass and optimize\n",
    "      loss.backward()\n",
    "      optimizer.step()\n",
    "\n",
    "      # Compute correct predictions\n",
    "      pred = outputs.argmax(dim=1, keepdim=True)\n",
    "      correct += pred.eq(labels.view_as(pred)).sum().item()\n",
    "\n",
    "      # Log training loss per 200 mini batches using TensorBoard\n",
    "      if writer:\n",
    "        if i % 200 == 199:\n",
    "          writer.add_scalar('Train Loss', train_loss/200, epoch * len(train_loader) + i)\n",
    "\n",
    "    total_time_taken += time.time() - start_time\n",
    "\n",
    "    # Compute train accuracy\n",
    "    train_accuracy = 100. * correct / len(train_loader.dataset)\n",
    "\n",
    "    # Log training loss per 200 mini batches using TensorBoard\n",
    "    if writer:\n",
    "      writer.add_scalar('Train Accuracy', train_accuracy, epoch)\n",
    "\n",
    "    model.eval()\n",
    "    test_loss = 0.0\n",
    "    correct = 0\n",
    "    test_acc = []\n",
    "    with torch.no_grad():\n",
    "      for i, data in enumerate(test_loader):\n",
    "        # Get the inputs and labels\n",
    "        inputs, labels = data\n",
    "        inputs, labels = inputs.to(device), labels.to(device)\n",
    "\n",
    "        # Forward pass\n",
    "        outputs = model(inputs)\n",
    "\n",
    "        # Compute the loss\n",
    "        loss = criterion(outputs, labels)\n",
    "        test_loss += loss.item()\n",
    "\n",
    "        # Compute correct predictions\n",
    "        pred = outputs.argmax(dim=1, keepdim=True)\n",
    "        correct += pred.eq(labels.view_as(pred)).sum().item()\n",
    "\n",
    "        # Log training loss per 200 mini batches using TensorBoard\n",
    "        if writer:\n",
    "          if i % 200 == 199:\n",
    "            writer.add_scalar('Test Loss', train_loss/200, epoch * len(test_loader) + i)\n",
    "\n",
    "    # Compute test accuracy\n",
    "    test_accuracy = 100. * correct / len(test_loader.dataset)\n",
    "    test_acc.append(test_accuracy)\n",
    "\n",
    "    # Log training loss per 200 mini batches using TensorBoard\n",
    "    if writer:\n",
    "      writer.add_scalar('Test Accuracy', test_accuracy, epoch)\n",
    "\n",
    "    # Print statistics\n",
    "    print(f'Epoch {epoch+1}, Train Loss: {train_loss/len(train_loader):.4f}, Train Accuracy: {train_accuracy:.2f}%, Test Loss: {test_loss/len(test_loader):.4f}, Test Accuracy: {test_accuracy:.2f}%')\n",
    "\n",
    "  print(f'\\n\\nTotal Time Elapsed: {total_time_taken} s')"
   ]
  },
  {
   "cell_type": "markdown",
   "id": "11494bb4-9422-4956-b52d-dca7cdef1193",
   "metadata": {},
   "source": [
    "## Simple CNN"
   ]
  },
  {
   "cell_type": "code",
   "execution_count": 13,
   "id": "cd2c68be-b6cb-4514-acec-7a05dacf23a7",
   "metadata": {},
   "outputs": [],
   "source": [
    "class SimpleCNN(nn.Module):\n",
    "  def __init__(self):\n",
    "    super(BasicCNN, self).__init__()\n",
    "    self.conv1 = nn.Conv2d(1, 32, 3) # 32 1x3x3 filters with stride 1, pad 0\n",
    "    '''\n",
    "    Output size = (28 - 3 + 2*0)/1 + 1 = 26\n",
    "    Output volume = 32x26x26\n",
    "    '''\n",
    "    self.pool = nn.MaxPool2d(2, 2) # 2x2 filter with stride 2\n",
    "    '''\n",
    "    Output size = (26 - 2)/2 + 1 = 13\n",
    "    Output volume = 32x13x13\n",
    "    '''\n",
    "    self.fc1 = nn.Linear(32 * 13 * 13, 100)\n",
    "    self.fc2 = nn.Linear(100, 10)\n",
    "\n",
    "  def forward(self, x):\n",
    "    x = torch.relu(self.conv1(x))\n",
    "    x = self.pool(x)\n",
    "    # Flatten the output of the last convolutional layer\n",
    "    x = x.view(-1, 32 * 13 * 13)\n",
    "    # Apply the fully connected layers with ReLU activation\n",
    "    x = torch.relu(self.fc1(x))\n",
    "    # Apply the last fully connected layer with softmax activation\n",
    "    x = self.fc2(x)\n",
    "\n",
    "    return x"
   ]
  },
  {
   "cell_type": "markdown",
   "id": "3b595ac3",
   "metadata": {},
   "source": [
    "## VGG Architecture\n",
    "The VGG architecture proposed in the original paper worked on an input image dimension of 224x224x3. Since the Fashion MNIST dataset are of 28x28x1 dimension, either the image has to be rescaled, or the architecture has to be modified to better fit our use case.\n",
    "\n",
    "### Original VGG16 Architecture\n",
    "For this implementation, we utilize the original VGG16 architecture with a few key modifications to accommodate the Fashion MNIST dataset. Initially, we resize the input image dimensions to 224x224x1 to align with the VGG model's input requirements. Additionally, we introduce small dropout layers after each fully connected layer. This measure helps prevent overfitting, considering that the original VGG model was primarily designed for the ImageNet dataset, which contains a significantly larger volume of images. \n",
    "s.\n",
    "![](https://media.geeksforgeeks.org/wp-content/uploads/20200219152207/new41.jpg)\n",
    "\n",
    "### Modified VGG Architecture\n",
    "Propsed architecture 1:\n",
    "- 2x Convulution + ReLU (28 x 28 x 64)\n",
    "- Max Pooling (14 x 14 x 64)\n",
    "- 2x Convolution + ReLU (14 x 14 x 128)\n",
    "- Max Pooling (7 x 7 x 128)\n",
    "- 3x Convolution + ReLU (7 x 7 x 256)\n",
    "- Max Pooling (3 x 3 x 256)\n",
    "- 3x Convolution + ReLU (3 x 3 x 512)\n",
    "- Max Pooling (1 x 1 x 512)\n",
    "\n",
    "Propsed architecture 1:\n",
    "- 2x Convulution + ReLU (28 x 28 x 64)\n",
    "- Max Pooling (14 x 14 x 64)\n",
    "- 2x Convolution + ReLU (14 x 14 x 128)\n",
    "- Max Pooling (7 x 7 x 128)\n",
    "- 3x Convolution + ReLU (7 x 7 x 256)\n",
    "- Max Pooling (3 x 3 x 256)\n",
    "\n",
    "Propsed architecture 1:\n",
    "- 2x Convulution + ReLU (28 x 28 x 64)\n",
    "- Max Pooling (14 x 14 x 64)\n",
    "- 2x Convolution + ReLU (14 x 14 x 128)\n",
    "- Max Pooling (7 x 7 x 128)\n",
    "\n",
    "Fully connected layer for all three architecture will follow a similar 3-FC layer as implemented in the original VGG16. However, the output dimension each layer have been scaled down accordingly to the nearest power 2.\n",
    "\n",
    "Example:\n",
    "- Proposed architecture 1: Scaled down from 7x7x512 to 1x1x512, by a factor of 49 => 4096/49 = 84 => 64"
   ]
  },
  {
   "cell_type": "code",
   "execution_count": 11,
   "id": "b35b7b21",
   "metadata": {},
   "outputs": [],
   "source": [
    "class VGG16(nn.Module):\n",
    "  def __init__(self):\n",
    "    super(VGG16, self).__init__()\n",
    "    self.conv1_1 = nn.Conv2d(in_channels=1, out_channels=64, kernel_size=3, padding=1)\n",
    "    self.conv1_2 = nn.Conv2d(in_channels=64, out_channels=64, kernel_size=3, padding=1)\n",
    "\n",
    "    self.conv2_1 = nn.Conv2d(in_channels=64, out_channels=128, kernel_size=3, padding=1)\n",
    "    self.conv2_2 = nn.Conv2d(in_channels=128, out_channels=128, kernel_size=3, padding=1)\n",
    "\n",
    "    self.conv3_1 = nn.Conv2d(in_channels=128, out_channels=256, kernel_size=3, padding=1)\n",
    "    self.conv3_2 = nn.Conv2d(in_channels=256, out_channels=256, kernel_size=3, padding=1)\n",
    "    self.conv3_3 = nn.Conv2d(in_channels=256, out_channels=256, kernel_size=3, padding=1)\n",
    "\n",
    "    self.conv4_1 = nn.Conv2d(in_channels=256, out_channels=512, kernel_size=3, padding=1)\n",
    "    self.conv4_2 = nn.Conv2d(in_channels=512, out_channels=512, kernel_size=3, padding=1)\n",
    "    self.conv4_3 = nn.Conv2d(in_channels=512, out_channels=512, kernel_size=3, padding=1)\n",
    "\n",
    "    self.conv5_1 = nn.Conv2d(in_channels=512, out_channels=512, kernel_size=3, padding=1)\n",
    "    self.conv5_2 = nn.Conv2d(in_channels=512, out_channels=512, kernel_size=3, padding=1)\n",
    "    self.conv5_3 = nn.Conv2d(in_channels=512, out_channels=512, kernel_size=3, padding=1)\n",
    "\n",
    "    self.maxpool = nn.MaxPool2d(kernel_size=2, stride=2)\n",
    "\n",
    "    self.fc1 = nn.Linear(7 * 7 * 512, 4096)\n",
    "    self.fc2 = nn.Linear(4096, 4096)\n",
    "    self.fc3 = nn.Linear(4096, 10)\n",
    "\n",
    "  def forward(self, x):\n",
    "    x = torch.relu(self.conv1_1(x))\n",
    "    x = torch.relu(self.conv1_2(x))\n",
    "    x = self.maxpool(x)\n",
    "    x = torch.relu(self.conv2_1(x))\n",
    "    x = torch.relu(self.conv2_2(x))\n",
    "    x = self.maxpool(x)\n",
    "    x = torch.relu(self.conv3_1(x))\n",
    "    x = torch.relu(self.conv3_2(x))\n",
    "    x = torch.relu(self.conv3_3(x))\n",
    "    x = self.maxpool(x)\n",
    "    x = torch.relu(self.conv4_1(x))\n",
    "    x = torch.relu(self.conv4_2(x))\n",
    "    x = torch.relu(self.conv4_3(x))\n",
    "    x = self.maxpool(x)\n",
    "    x = torch.relu(self.conv5_1(x))\n",
    "    x = torch.relu(self.conv5_2(x))\n",
    "    x = torch.relu(self.conv5_3(x))\n",
    "    x = self.maxpool(x)\n",
    "    x = x.view(-1, 7 * 7 * 512)\n",
    "    x = torch.relu(self.fc1(x))\n",
    "    x = nn.functional.dropout(x, 0.2)\n",
    "    x = torch.relu(self.fc2(x))\n",
    "    x = nn.functional.dropout(x, 0.2)\n",
    "    x = self.fc3(x)\n",
    "\n",
    "    return x"
   ]
  },
  {
   "cell_type": "code",
   "execution_count": 12,
   "id": "4829d047-4a3c-40c2-974c-1939db56382f",
   "metadata": {},
   "outputs": [
    {
     "name": "stderr",
     "output_type": "stream",
     "text": [
      "100%|██████████| 1875/1875 [05:35<00:00,  5.59it/s]\n",
      "  0%|          | 0/1875 [00:00<?, ?it/s]"
     ]
    },
    {
     "name": "stdout",
     "output_type": "stream",
     "text": [
      "Epoch 1, Train Loss: 0.5929, Train Accuracy: 77.55%, Test Loss: 0.3687, Test Accuracy: 85.98%\n"
     ]
    },
    {
     "name": "stderr",
     "output_type": "stream",
     "text": [
      "100%|██████████| 1875/1875 [05:35<00:00,  5.59it/s]\n",
      "  0%|          | 0/1875 [00:00<?, ?it/s]"
     ]
    },
    {
     "name": "stdout",
     "output_type": "stream",
     "text": [
      "Epoch 2, Train Loss: 0.3304, Train Accuracy: 87.61%, Test Loss: 0.3363, Test Accuracy: 87.50%\n"
     ]
    },
    {
     "name": "stderr",
     "output_type": "stream",
     "text": [
      "100%|██████████| 1875/1875 [05:35<00:00,  5.59it/s]\n",
      "  0%|          | 0/1875 [00:00<?, ?it/s]"
     ]
    },
    {
     "name": "stdout",
     "output_type": "stream",
     "text": [
      "Epoch 3, Train Loss: 0.2888, Train Accuracy: 89.04%, Test Loss: 0.3233, Test Accuracy: 87.35%\n"
     ]
    },
    {
     "name": "stderr",
     "output_type": "stream",
     "text": [
      "100%|██████████| 1875/1875 [05:35<00:00,  5.59it/s]\n",
      "  0%|          | 0/1875 [00:00<?, ?it/s]"
     ]
    },
    {
     "name": "stdout",
     "output_type": "stream",
     "text": [
      "Epoch 4, Train Loss: 0.2654, Train Accuracy: 89.96%, Test Loss: 0.3075, Test Accuracy: 89.40%\n"
     ]
    },
    {
     "name": "stderr",
     "output_type": "stream",
     "text": [
      "100%|██████████| 1875/1875 [05:35<00:00,  5.59it/s]\n",
      "  0%|          | 0/1875 [00:00<?, ?it/s]"
     ]
    },
    {
     "name": "stdout",
     "output_type": "stream",
     "text": [
      "Epoch 5, Train Loss: 0.2441, Train Accuracy: 90.72%, Test Loss: 0.2750, Test Accuracy: 90.15%\n"
     ]
    },
    {
     "name": "stderr",
     "output_type": "stream",
     "text": [
      "100%|██████████| 1875/1875 [05:35<00:00,  5.59it/s]\n",
      "  0%|          | 0/1875 [00:00<?, ?it/s]"
     ]
    },
    {
     "name": "stdout",
     "output_type": "stream",
     "text": [
      "Epoch 6, Train Loss: 0.2243, Train Accuracy: 91.53%, Test Loss: 0.2933, Test Accuracy: 89.89%\n"
     ]
    },
    {
     "name": "stderr",
     "output_type": "stream",
     "text": [
      "100%|██████████| 1875/1875 [05:35<00:00,  5.59it/s]\n",
      "  0%|          | 0/1875 [00:00<?, ?it/s]"
     ]
    },
    {
     "name": "stdout",
     "output_type": "stream",
     "text": [
      "Epoch 7, Train Loss: 0.2060, Train Accuracy: 92.18%, Test Loss: 0.2744, Test Accuracy: 91.05%\n"
     ]
    },
    {
     "name": "stderr",
     "output_type": "stream",
     "text": [
      "100%|██████████| 1875/1875 [05:35<00:00,  5.59it/s]\n",
      "  0%|          | 0/1875 [00:00<?, ?it/s]"
     ]
    },
    {
     "name": "stdout",
     "output_type": "stream",
     "text": [
      "Epoch 8, Train Loss: 0.1904, Train Accuracy: 92.83%, Test Loss: 0.2598, Test Accuracy: 90.62%\n"
     ]
    },
    {
     "name": "stderr",
     "output_type": "stream",
     "text": [
      "100%|██████████| 1875/1875 [05:34<00:00,  5.60it/s]\n",
      "  0%|          | 0/1875 [00:00<?, ?it/s]"
     ]
    },
    {
     "name": "stdout",
     "output_type": "stream",
     "text": [
      "Epoch 9, Train Loss: 0.1743, Train Accuracy: 93.46%, Test Loss: 0.2698, Test Accuracy: 91.28%\n"
     ]
    },
    {
     "name": "stderr",
     "output_type": "stream",
     "text": [
      "100%|██████████| 1875/1875 [05:34<00:00,  5.60it/s]\n"
     ]
    },
    {
     "name": "stdout",
     "output_type": "stream",
     "text": [
      "Epoch 10, Train Loss: 0.1827, Train Accuracy: 93.05%, Test Loss: 0.2667, Test Accuracy: 91.34%\n",
      "\n",
      "\n",
      "Total Time Elapsed: 3353.0267639160156 s\n"
     ]
    }
   ],
   "source": [
    "# defining hyperparameters\n",
    "learning_rate = 0.001\n",
    "num_epochs = 10\n",
    "\n",
    "VGGModel = VGG16().to(device)\n",
    "writer = SummaryWriter('logs/tensorboard/VGG/VGG16')\n",
    "criterion = nn.CrossEntropyLoss()\n",
    "optimizer = optim.Adam(VGGModel.parameters(), lr=learning_rate)\n",
    "\n",
    "train(VGGModel, criterion, optimizer, num_epochs, vgg_resize_train_loader, vgg_resize_test_loader, writer)"
   ]
  },
  {
   "cell_type": "code",
   "execution_count": 14,
   "id": "80a98c27",
   "metadata": {},
   "outputs": [],
   "source": [
    "class ModifiedVGG_1(nn.Module):\n",
    "  def __init__(self):\n",
    "    super(ModifiedVGG_1, self).__init__()\n",
    "    self.conv1_1 = nn.Conv2d(in_channels=1, out_channels=64, kernel_size=3, padding=1)\n",
    "    self.conv1_2 = nn.Conv2d(in_channels=64, out_channels=64, kernel_size=3, padding=1)\n",
    "\n",
    "    self.conv2_1 = nn.Conv2d(in_channels=64, out_channels=128, kernel_size=3, padding=1)\n",
    "    self.conv2_2 = nn.Conv2d(in_channels=128, out_channels=128, kernel_size=3, padding=1)\n",
    "\n",
    "    self.conv3_1 = nn.Conv2d(in_channels=128, out_channels=256, kernel_size=3, padding=1)\n",
    "    self.conv3_2 = nn.Conv2d(in_channels=256, out_channels=256, kernel_size=3, padding=1)\n",
    "    self.conv3_3 = nn.Conv2d(in_channels=256, out_channels=256, kernel_size=3, padding=1)\n",
    "\n",
    "    self.conv4_1 = nn.Conv2d(in_channels=256, out_channels=512, kernel_size=3, padding=1)\n",
    "    self.conv4_2 = nn.Conv2d(in_channels=512, out_channels=512, kernel_size=3, padding=1)\n",
    "    self.conv4_3 = nn.Conv2d(in_channels=512, out_channels=512, kernel_size=3, padding=1)\n",
    "\n",
    "    self.maxpool = nn.MaxPool2d(kernel_size=2, stride=2)\n",
    "\n",
    "    self.fc1 = nn.Linear(1 * 1 * 512, 64)\n",
    "    self.fc2 = nn.Linear(64, 64)\n",
    "    self.fc3 = nn.Linear(64, 10)\n",
    "\n",
    "  def forward(self, x):\n",
    "    x = torch.relu(self.conv1_1(x))\n",
    "    x = torch.relu(self.conv1_2(x))\n",
    "    x = self.maxpool(x)\n",
    "    x = torch.relu(self.conv2_1(x))\n",
    "    x = torch.relu(self.conv2_2(x))\n",
    "    x = self.maxpool(x)\n",
    "    x = torch.relu(self.conv3_1(x))\n",
    "    x = torch.relu(self.conv3_2(x))\n",
    "    x = torch.relu(self.conv3_3(x))\n",
    "    x = self.maxpool(x)\n",
    "    x = torch.relu(self.conv4_1(x))\n",
    "    x = torch.relu(self.conv4_2(x))\n",
    "    x = torch.relu(self.conv4_3(x))\n",
    "    x = self.maxpool(x)\n",
    "    x = x.view(-1, 1 * 1 * 512)\n",
    "    x = torch.relu(self.fc1(x))\n",
    "    x = torch.relu(self.fc2(x))\n",
    "    x = self.fc3(x)\n",
    "\n",
    "    return x"
   ]
  },
  {
   "cell_type": "code",
   "execution_count": 15,
   "id": "0724412a",
   "metadata": {},
   "outputs": [
    {
     "name": "stderr",
     "output_type": "stream",
     "text": [
      "100%|██████████| 1875/1875 [00:16<00:00, 117.17it/s]\n",
      "  0%|          | 0/1875 [00:00<?, ?it/s]"
     ]
    },
    {
     "name": "stdout",
     "output_type": "stream",
     "text": [
      "Epoch 1, Train Loss: 0.7267, Train Accuracy: 72.24%, Test Loss: 0.4298, Test Accuracy: 83.80%\n"
     ]
    },
    {
     "name": "stderr",
     "output_type": "stream",
     "text": [
      "100%|██████████| 1875/1875 [00:16<00:00, 116.58it/s]\n",
      "  0%|          | 0/1875 [00:00<?, ?it/s]"
     ]
    },
    {
     "name": "stdout",
     "output_type": "stream",
     "text": [
      "Epoch 2, Train Loss: 0.3728, Train Accuracy: 86.35%, Test Loss: 0.3385, Test Accuracy: 87.65%\n"
     ]
    },
    {
     "name": "stderr",
     "output_type": "stream",
     "text": [
      "100%|██████████| 1875/1875 [00:16<00:00, 113.05it/s]\n",
      "  0%|          | 0/1875 [00:00<?, ?it/s]"
     ]
    },
    {
     "name": "stdout",
     "output_type": "stream",
     "text": [
      "Epoch 3, Train Loss: 0.3009, Train Accuracy: 89.13%, Test Loss: 0.3263, Test Accuracy: 88.37%\n"
     ]
    },
    {
     "name": "stderr",
     "output_type": "stream",
     "text": [
      "100%|██████████| 1875/1875 [00:16<00:00, 113.65it/s]\n",
      "  0%|          | 0/1875 [00:00<?, ?it/s]"
     ]
    },
    {
     "name": "stdout",
     "output_type": "stream",
     "text": [
      "Epoch 4, Train Loss: 0.2694, Train Accuracy: 90.25%, Test Loss: 0.2997, Test Accuracy: 89.46%\n"
     ]
    },
    {
     "name": "stderr",
     "output_type": "stream",
     "text": [
      "100%|██████████| 1875/1875 [00:16<00:00, 116.80it/s]\n",
      "  0%|          | 0/1875 [00:00<?, ?it/s]"
     ]
    },
    {
     "name": "stdout",
     "output_type": "stream",
     "text": [
      "Epoch 5, Train Loss: 0.2472, Train Accuracy: 91.25%, Test Loss: 0.2877, Test Accuracy: 89.82%\n"
     ]
    },
    {
     "name": "stderr",
     "output_type": "stream",
     "text": [
      "100%|██████████| 1875/1875 [00:16<00:00, 116.12it/s]\n",
      "  0%|          | 0/1875 [00:00<?, ?it/s]"
     ]
    },
    {
     "name": "stdout",
     "output_type": "stream",
     "text": [
      "Epoch 6, Train Loss: 0.2294, Train Accuracy: 91.97%, Test Loss: 0.2796, Test Accuracy: 90.29%\n"
     ]
    },
    {
     "name": "stderr",
     "output_type": "stream",
     "text": [
      "100%|██████████| 1875/1875 [00:16<00:00, 113.96it/s]\n",
      "  0%|          | 0/1875 [00:00<?, ?it/s]"
     ]
    },
    {
     "name": "stdout",
     "output_type": "stream",
     "text": [
      "Epoch 7, Train Loss: 0.2128, Train Accuracy: 92.40%, Test Loss: 0.2525, Test Accuracy: 91.54%\n"
     ]
    },
    {
     "name": "stderr",
     "output_type": "stream",
     "text": [
      "100%|██████████| 1875/1875 [00:15<00:00, 117.84it/s]\n",
      "  0%|          | 0/1875 [00:00<?, ?it/s]"
     ]
    },
    {
     "name": "stdout",
     "output_type": "stream",
     "text": [
      "Epoch 8, Train Loss: 0.1988, Train Accuracy: 92.91%, Test Loss: 0.2567, Test Accuracy: 91.28%\n"
     ]
    },
    {
     "name": "stderr",
     "output_type": "stream",
     "text": [
      "100%|██████████| 1875/1875 [00:15<00:00, 117.86it/s]\n",
      "  0%|          | 0/1875 [00:00<?, ?it/s]"
     ]
    },
    {
     "name": "stdout",
     "output_type": "stream",
     "text": [
      "Epoch 9, Train Loss: 0.2060, Train Accuracy: 92.93%, Test Loss: 0.3254, Test Accuracy: 89.14%\n"
     ]
    },
    {
     "name": "stderr",
     "output_type": "stream",
     "text": [
      "100%|██████████| 1875/1875 [00:16<00:00, 115.13it/s]\n"
     ]
    },
    {
     "name": "stdout",
     "output_type": "stream",
     "text": [
      "Epoch 10, Train Loss: 0.1785, Train Accuracy: 93.61%, Test Loss: 0.2481, Test Accuracy: 91.86%\n",
      "\n",
      "\n",
      "Total Time Elapsed: 161.9481337070465 s\n"
     ]
    }
   ],
   "source": [
    "# defining hyperparameters\n",
    "learning_rate = 0.001\n",
    "num_epochs = 10\n",
    "\n",
    "ModifiedVGGModel_1 = ModifiedVGG_1().to(device)\n",
    "writer = SummaryWriter('logs/tensorboard/VGG/ModifiedVGG_1')\n",
    "criterion = nn.CrossEntropyLoss()\n",
    "optimizer = optim.Adam(ModifiedVGGModel_1.parameters(), lr=learning_rate)\n",
    "\n",
    "train(ModifiedVGGModel_1, criterion, optimizer, num_epochs, vgg_train_loader, vgg_test_loader, writer)"
   ]
  },
  {
   "cell_type": "code",
   "execution_count": 16,
   "id": "65b38898",
   "metadata": {},
   "outputs": [],
   "source": [
    "class ModifiedVGG_2(nn.Module):\n",
    "  def __init__(self):\n",
    "    super(ModifiedVGG_2, self).__init__()\n",
    "    self.conv1_1 = nn.Conv2d(in_channels=1, out_channels=64, kernel_size=3, padding=1)\n",
    "    self.conv1_2 = nn.Conv2d(in_channels=64, out_channels=64, kernel_size=3, padding=1)\n",
    "\n",
    "    self.conv2_1 = nn.Conv2d(in_channels=64, out_channels=128, kernel_size=3, padding=1)\n",
    "    self.conv2_2 = nn.Conv2d(in_channels=128, out_channels=128, kernel_size=3, padding=1)\n",
    "\n",
    "    self.conv3_1 = nn.Conv2d(in_channels=128, out_channels=256, kernel_size=3, padding=1)\n",
    "    self.conv3_2 = nn.Conv2d(in_channels=256, out_channels=256, kernel_size=3, padding=1)\n",
    "    self.conv3_3 = nn.Conv2d(in_channels=256, out_channels=256, kernel_size=3, padding=1)\n",
    "\n",
    "    self.maxpool = nn.MaxPool2d(kernel_size=2, stride=2)\n",
    "\n",
    "    self.fc1 = nn.Linear(3 * 3 * 256, 256)\n",
    "    self.fc2 = nn.Linear(256, 256)\n",
    "    self.fc3 = nn.Linear(256, 10)\n",
    "\n",
    "  def forward(self, x):\n",
    "    x = torch.relu(self.conv1_1(x))\n",
    "    x = torch.relu(self.conv1_2(x))\n",
    "    x = self.maxpool(x)\n",
    "    x = torch.relu(self.conv2_1(x))\n",
    "    x = torch.relu(self.conv2_2(x))\n",
    "    x = self.maxpool(x)\n",
    "    x = torch.relu(self.conv3_1(x))\n",
    "    x = torch.relu(self.conv3_2(x))\n",
    "    x = torch.relu(self.conv3_3(x))\n",
    "    x = self.maxpool(x)\n",
    "    x = x.view(-1, 3 * 3 * 256)\n",
    "    x = torch.relu(self.fc1(x))\n",
    "    x = torch.relu(self.fc2(x))\n",
    "    x = self.fc3(x)\n",
    "\n",
    "    return x"
   ]
  },
  {
   "cell_type": "code",
   "execution_count": 17,
   "id": "26276989",
   "metadata": {},
   "outputs": [
    {
     "name": "stderr",
     "output_type": "stream",
     "text": [
      "100%|██████████| 1875/1875 [00:14<00:00, 128.76it/s]\n",
      "  0%|          | 0/1875 [00:00<?, ?it/s]"
     ]
    },
    {
     "name": "stdout",
     "output_type": "stream",
     "text": [
      "Epoch 1, Train Loss: 0.5469, Train Accuracy: 79.51%, Test Loss: 0.3795, Test Accuracy: 85.94%\n"
     ]
    },
    {
     "name": "stderr",
     "output_type": "stream",
     "text": [
      "100%|██████████| 1875/1875 [00:12<00:00, 146.91it/s]\n",
      "  0%|          | 0/1875 [00:00<?, ?it/s]"
     ]
    },
    {
     "name": "stdout",
     "output_type": "stream",
     "text": [
      "Epoch 2, Train Loss: 0.3110, Train Accuracy: 88.54%, Test Loss: 0.2888, Test Accuracy: 89.46%\n"
     ]
    },
    {
     "name": "stderr",
     "output_type": "stream",
     "text": [
      "100%|██████████| 1875/1875 [00:12<00:00, 145.71it/s]\n",
      "  0%|          | 0/1875 [00:00<?, ?it/s]"
     ]
    },
    {
     "name": "stdout",
     "output_type": "stream",
     "text": [
      "Epoch 3, Train Loss: 0.2607, Train Accuracy: 90.43%, Test Loss: 0.2697, Test Accuracy: 90.37%\n"
     ]
    },
    {
     "name": "stderr",
     "output_type": "stream",
     "text": [
      "100%|██████████| 1875/1875 [00:12<00:00, 147.44it/s]\n",
      "  0%|          | 0/1875 [00:00<?, ?it/s]"
     ]
    },
    {
     "name": "stdout",
     "output_type": "stream",
     "text": [
      "Epoch 4, Train Loss: 0.2318, Train Accuracy: 91.42%, Test Loss: 0.2943, Test Accuracy: 89.40%\n"
     ]
    },
    {
     "name": "stderr",
     "output_type": "stream",
     "text": [
      "100%|██████████| 1875/1875 [00:12<00:00, 147.75it/s]\n",
      "  0%|          | 0/1875 [00:00<?, ?it/s]"
     ]
    },
    {
     "name": "stdout",
     "output_type": "stream",
     "text": [
      "Epoch 5, Train Loss: 0.2091, Train Accuracy: 92.41%, Test Loss: 0.2525, Test Accuracy: 91.20%\n"
     ]
    },
    {
     "name": "stderr",
     "output_type": "stream",
     "text": [
      "100%|██████████| 1875/1875 [00:12<00:00, 145.86it/s]\n",
      "  0%|          | 0/1875 [00:00<?, ?it/s]"
     ]
    },
    {
     "name": "stdout",
     "output_type": "stream",
     "text": [
      "Epoch 6, Train Loss: 0.1890, Train Accuracy: 93.19%, Test Loss: 0.2456, Test Accuracy: 91.40%\n"
     ]
    },
    {
     "name": "stderr",
     "output_type": "stream",
     "text": [
      "100%|██████████| 1875/1875 [00:12<00:00, 146.17it/s]\n",
      "  0%|          | 0/1875 [00:00<?, ?it/s]"
     ]
    },
    {
     "name": "stdout",
     "output_type": "stream",
     "text": [
      "Epoch 7, Train Loss: 0.1752, Train Accuracy: 93.60%, Test Loss: 0.2481, Test Accuracy: 91.87%\n"
     ]
    },
    {
     "name": "stderr",
     "output_type": "stream",
     "text": [
      "100%|██████████| 1875/1875 [00:14<00:00, 126.99it/s]\n",
      "  0%|          | 0/1875 [00:00<?, ?it/s]"
     ]
    },
    {
     "name": "stdout",
     "output_type": "stream",
     "text": [
      "Epoch 8, Train Loss: 0.1638, Train Accuracy: 93.95%, Test Loss: 0.2717, Test Accuracy: 91.48%\n"
     ]
    },
    {
     "name": "stderr",
     "output_type": "stream",
     "text": [
      "100%|██████████| 1875/1875 [00:12<00:00, 146.86it/s]\n",
      "  0%|          | 0/1875 [00:00<?, ?it/s]"
     ]
    },
    {
     "name": "stdout",
     "output_type": "stream",
     "text": [
      "Epoch 9, Train Loss: 0.1505, Train Accuracy: 94.50%, Test Loss: 0.2645, Test Accuracy: 91.35%\n"
     ]
    },
    {
     "name": "stderr",
     "output_type": "stream",
     "text": [
      "100%|██████████| 1875/1875 [00:12<00:00, 146.85it/s]\n"
     ]
    },
    {
     "name": "stdout",
     "output_type": "stream",
     "text": [
      "Epoch 10, Train Loss: 0.1453, Train Accuracy: 94.78%, Test Loss: 0.2518, Test Accuracy: 91.70%\n",
      "\n",
      "\n",
      "Total Time Elapsed: 131.60005521774292 s\n"
     ]
    }
   ],
   "source": [
    "# defining hyperparameters\n",
    "learning_rate = 0.001\n",
    "num_epochs = 10\n",
    "\n",
    "ModifiedVGGModel_2 = ModifiedVGG_2().to(device)\n",
    "writer = SummaryWriter('logs/tensorboard/VGG/ModifiedVGG_2')\n",
    "criterion = nn.CrossEntropyLoss()\n",
    "optimizer = optim.Adam(ModifiedVGGModel_2.parameters(), lr=learning_rate)\n",
    "\n",
    "train(ModifiedVGGModel_2, criterion, optimizer, num_epochs, vgg_train_loader, vgg_test_loader, writer)"
   ]
  },
  {
   "cell_type": "code",
   "execution_count": 18,
   "id": "edc039b4",
   "metadata": {},
   "outputs": [],
   "source": [
    "class ModifiedVGG_3(nn.Module):\n",
    "  def __init__(self):\n",
    "    super(ModifiedVGG_3, self).__init__()\n",
    "    self.conv1_1 = nn.Conv2d(in_channels=1, out_channels=64, kernel_size=3, padding=1)\n",
    "    self.conv1_2 = nn.Conv2d(in_channels=64, out_channels=64, kernel_size=3, padding=1)\n",
    "\n",
    "    self.conv2_1 = nn.Conv2d(in_channels=64, out_channels=128, kernel_size=3, padding=1)\n",
    "    self.conv2_2 = nn.Conv2d(in_channels=128, out_channels=128, kernel_size=3, padding=1)\n",
    "\n",
    "    self.maxpool = nn.MaxPool2d(kernel_size=2, stride=2)\n",
    "\n",
    "    self.fc1 = nn.Linear(7 * 7 * 128, 1024)\n",
    "    self.fc2 = nn.Linear(1024, 1024)\n",
    "    self.fc3 = nn.Linear(1024, 10)\n",
    "\n",
    "  def forward(self, x):\n",
    "    x = torch.relu(self.conv1_1(x))\n",
    "    x = torch.relu(self.conv1_2(x))\n",
    "    x = self.maxpool(x)\n",
    "    x = torch.relu(self.conv2_1(x))\n",
    "    x = torch.relu(self.conv2_2(x))\n",
    "    x = self.maxpool(x)\n",
    "    x = x.view(-1, 7 * 7 * 128)\n",
    "    x = torch.relu(self.fc1(x))\n",
    "    x = torch.relu(self.fc2(x))\n",
    "    x = self.fc3(x)\n",
    "\n",
    "    return x"
   ]
  },
  {
   "cell_type": "code",
   "execution_count": 19,
   "id": "b835e5c3",
   "metadata": {},
   "outputs": [
    {
     "name": "stderr",
     "output_type": "stream",
     "text": [
      "100%|██████████| 1875/1875 [00:11<00:00, 161.55it/s]\n",
      "  0%|          | 0/1875 [00:00<?, ?it/s]"
     ]
    },
    {
     "name": "stdout",
     "output_type": "stream",
     "text": [
      "Epoch 1, Train Loss: 0.3923, Train Accuracy: 85.56%, Test Loss: 0.2760, Test Accuracy: 89.66%\n"
     ]
    },
    {
     "name": "stderr",
     "output_type": "stream",
     "text": [
      "100%|██████████| 1875/1875 [00:12<00:00, 156.15it/s]\n",
      "  0%|          | 0/1875 [00:00<?, ?it/s]"
     ]
    },
    {
     "name": "stdout",
     "output_type": "stream",
     "text": [
      "Epoch 2, Train Loss: 0.2371, Train Accuracy: 91.34%, Test Loss: 0.2348, Test Accuracy: 91.75%\n"
     ]
    },
    {
     "name": "stderr",
     "output_type": "stream",
     "text": [
      "100%|██████████| 1875/1875 [00:11<00:00, 160.37it/s]\n",
      "  0%|          | 0/1875 [00:00<?, ?it/s]"
     ]
    },
    {
     "name": "stdout",
     "output_type": "stream",
     "text": [
      "Epoch 3, Train Loss: 0.1867, Train Accuracy: 93.22%, Test Loss: 0.2314, Test Accuracy: 91.81%\n"
     ]
    },
    {
     "name": "stderr",
     "output_type": "stream",
     "text": [
      "100%|██████████| 1875/1875 [00:13<00:00, 144.20it/s]\n",
      "  0%|          | 0/1875 [00:00<?, ?it/s]"
     ]
    },
    {
     "name": "stdout",
     "output_type": "stream",
     "text": [
      "Epoch 4, Train Loss: 0.1568, Train Accuracy: 94.14%, Test Loss: 0.2310, Test Accuracy: 92.43%\n"
     ]
    },
    {
     "name": "stderr",
     "output_type": "stream",
     "text": [
      "100%|██████████| 1875/1875 [00:11<00:00, 159.87it/s]\n",
      "  0%|          | 0/1875 [00:00<?, ?it/s]"
     ]
    },
    {
     "name": "stdout",
     "output_type": "stream",
     "text": [
      "Epoch 5, Train Loss: 0.1262, Train Accuracy: 95.27%, Test Loss: 0.2423, Test Accuracy: 92.27%\n"
     ]
    },
    {
     "name": "stderr",
     "output_type": "stream",
     "text": [
      "100%|██████████| 1875/1875 [00:11<00:00, 160.39it/s]\n",
      "  0%|          | 0/1875 [00:00<?, ?it/s]"
     ]
    },
    {
     "name": "stdout",
     "output_type": "stream",
     "text": [
      "Epoch 6, Train Loss: 0.1015, Train Accuracy: 96.27%, Test Loss: 0.2866, Test Accuracy: 91.92%\n"
     ]
    },
    {
     "name": "stderr",
     "output_type": "stream",
     "text": [
      "100%|██████████| 1875/1875 [00:13<00:00, 142.06it/s]\n",
      "  0%|          | 0/1875 [00:00<?, ?it/s]"
     ]
    },
    {
     "name": "stdout",
     "output_type": "stream",
     "text": [
      "Epoch 7, Train Loss: 0.0933, Train Accuracy: 96.60%, Test Loss: 0.2926, Test Accuracy: 92.78%\n"
     ]
    },
    {
     "name": "stderr",
     "output_type": "stream",
     "text": [
      "100%|██████████| 1875/1875 [00:11<00:00, 160.13it/s]\n",
      "  0%|          | 0/1875 [00:00<?, ?it/s]"
     ]
    },
    {
     "name": "stdout",
     "output_type": "stream",
     "text": [
      "Epoch 8, Train Loss: 0.0731, Train Accuracy: 97.37%, Test Loss: 0.3039, Test Accuracy: 92.29%\n"
     ]
    },
    {
     "name": "stderr",
     "output_type": "stream",
     "text": [
      "100%|██████████| 1875/1875 [00:13<00:00, 142.85it/s]\n",
      "  0%|          | 0/1875 [00:00<?, ?it/s]"
     ]
    },
    {
     "name": "stdout",
     "output_type": "stream",
     "text": [
      "Epoch 9, Train Loss: 0.0639, Train Accuracy: 97.70%, Test Loss: 0.4319, Test Accuracy: 92.15%\n"
     ]
    },
    {
     "name": "stderr",
     "output_type": "stream",
     "text": [
      "100%|██████████| 1875/1875 [00:11<00:00, 161.18it/s]\n"
     ]
    },
    {
     "name": "stdout",
     "output_type": "stream",
     "text": [
      "Epoch 10, Train Loss: 0.0550, Train Accuracy: 98.11%, Test Loss: 0.4096, Test Accuracy: 92.51%\n",
      "\n",
      "\n",
      "Total Time Elapsed: 121.41094160079956 s\n"
     ]
    }
   ],
   "source": [
    "# defining hyperparameters\n",
    "learning_rate = 0.001\n",
    "num_epochs = 10\n",
    "\n",
    "ModifiedVGGModel_3 = ModifiedVGG_3().to(device)\n",
    "writer = SummaryWriter('logs/tensorboard/VGG/ModifiedVGG_3')\n",
    "criterion = nn.CrossEntropyLoss()\n",
    "optimizer = optim.Adam(ModifiedVGGModel_3.parameters(), lr=learning_rate)\n",
    "\n",
    "train(ModifiedVGGModel_3, criterion, optimizer, num_epochs, vgg_train_loader, vgg_test_loader, writer)"
   ]
  },
  {
   "cell_type": "markdown",
   "id": "6df22431-8690-4d54-84b3-10c711fa25a1",
   "metadata": {},
   "source": [
    "# ResNet"
   ]
  },
  {
   "cell_type": "code",
   "execution_count": null,
   "id": "e56e0d28-8287-4d9e-b047-3d438ae8691b",
   "metadata": {},
   "outputs": [],
   "source": []
  },
  {
   "cell_type": "markdown",
   "id": "7dfcfd41-5075-4b21-8277-07709a633ea7",
   "metadata": {},
   "source": [
    "# Inceptionv3"
   ]
  },
  {
   "cell_type": "code",
   "execution_count": null,
   "id": "24edd90d-445c-446e-8069-541e6de8b8d2",
   "metadata": {},
   "outputs": [],
   "source": []
  },
  {
   "cell_type": "markdown",
   "id": "9d37323c-a233-49c8-b34d-7e112aeb6210",
   "metadata": {},
   "source": [
    "---\n",
    "# Transfer Learning"
   ]
  },
  {
   "cell_type": "markdown",
   "id": "e44831a6-3586-44b3-a29a-ecdb792e054b",
   "metadata": {},
   "source": [
    "## VGG16"
   ]
  },
  {
   "cell_type": "code",
   "execution_count": 33,
   "id": "02c1e9ac-0891-4046-9781-fc4be87ae3d4",
   "metadata": {},
   "outputs": [
    {
     "name": "stderr",
     "output_type": "stream",
     "text": [
      "Using cache found in /home/UG/chua0994/.cache/torch/hub/pytorch_vision_v0.7.0\n",
      "100%|██████████| 1875/1875 [05:53<00:00,  5.30it/s]\n",
      "  0%|          | 0/1875 [00:00<?, ?it/s]"
     ]
    },
    {
     "name": "stdout",
     "output_type": "stream",
     "text": [
      "Epoch 1, Train Loss: 0.6728, Train Accuracy: 77.33%, Test Loss: 0.3773, Test Accuracy: 85.55%\n"
     ]
    },
    {
     "name": "stderr",
     "output_type": "stream",
     "text": [
      "100%|██████████| 1875/1875 [05:53<00:00,  5.30it/s]\n",
      "  0%|          | 0/1875 [00:00<?, ?it/s]"
     ]
    },
    {
     "name": "stdout",
     "output_type": "stream",
     "text": [
      "Epoch 2, Train Loss: 0.3871, Train Accuracy: 85.75%, Test Loss: 0.3403, Test Accuracy: 87.61%\n"
     ]
    },
    {
     "name": "stderr",
     "output_type": "stream",
     "text": [
      "100%|██████████| 1875/1875 [05:53<00:00,  5.30it/s]\n",
      "  0%|          | 0/1875 [00:00<?, ?it/s]"
     ]
    },
    {
     "name": "stdout",
     "output_type": "stream",
     "text": [
      "Epoch 3, Train Loss: 0.3370, Train Accuracy: 87.67%, Test Loss: 0.3207, Test Accuracy: 87.88%\n"
     ]
    },
    {
     "name": "stderr",
     "output_type": "stream",
     "text": [
      "100%|██████████| 1875/1875 [05:53<00:00,  5.30it/s]\n",
      "  0%|          | 0/1875 [00:00<?, ?it/s]"
     ]
    },
    {
     "name": "stdout",
     "output_type": "stream",
     "text": [
      "Epoch 4, Train Loss: 0.3855, Train Accuracy: 86.50%, Test Loss: 0.3114, Test Accuracy: 88.01%\n"
     ]
    },
    {
     "name": "stderr",
     "output_type": "stream",
     "text": [
      "100%|██████████| 1875/1875 [05:53<00:00,  5.30it/s]\n",
      "  0%|          | 0/1875 [00:00<?, ?it/s]"
     ]
    },
    {
     "name": "stdout",
     "output_type": "stream",
     "text": [
      "Epoch 5, Train Loss: 0.3051, Train Accuracy: 88.77%, Test Loss: 0.2748, Test Accuracy: 89.78%\n"
     ]
    },
    {
     "name": "stderr",
     "output_type": "stream",
     "text": [
      "100%|██████████| 1875/1875 [05:53<00:00,  5.30it/s]\n",
      "  0%|          | 0/1875 [00:00<?, ?it/s]"
     ]
    },
    {
     "name": "stdout",
     "output_type": "stream",
     "text": [
      "Epoch 6, Train Loss: 0.3043, Train Accuracy: 88.91%, Test Loss: 0.2959, Test Accuracy: 89.28%\n"
     ]
    },
    {
     "name": "stderr",
     "output_type": "stream",
     "text": [
      "100%|██████████| 1875/1875 [05:53<00:00,  5.30it/s]\n",
      "  0%|          | 0/1875 [00:00<?, ?it/s]"
     ]
    },
    {
     "name": "stdout",
     "output_type": "stream",
     "text": [
      "Epoch 7, Train Loss: 0.3008, Train Accuracy: 89.17%, Test Loss: 0.2886, Test Accuracy: 89.14%\n"
     ]
    },
    {
     "name": "stderr",
     "output_type": "stream",
     "text": [
      "100%|██████████| 1875/1875 [05:53<00:00,  5.30it/s]\n",
      "  0%|          | 0/1875 [00:00<?, ?it/s]"
     ]
    },
    {
     "name": "stdout",
     "output_type": "stream",
     "text": [
      "Epoch 8, Train Loss: 0.2712, Train Accuracy: 90.12%, Test Loss: 0.2802, Test Accuracy: 89.85%\n"
     ]
    },
    {
     "name": "stderr",
     "output_type": "stream",
     "text": [
      "100%|██████████| 1875/1875 [05:53<00:00,  5.30it/s]\n",
      "  0%|          | 0/1875 [00:00<?, ?it/s]"
     ]
    },
    {
     "name": "stdout",
     "output_type": "stream",
     "text": [
      "Epoch 9, Train Loss: 0.2943, Train Accuracy: 89.35%, Test Loss: 0.2751, Test Accuracy: 89.73%\n"
     ]
    },
    {
     "name": "stderr",
     "output_type": "stream",
     "text": [
      "100%|██████████| 1875/1875 [05:53<00:00,  5.30it/s]\n"
     ]
    },
    {
     "name": "stdout",
     "output_type": "stream",
     "text": [
      "Epoch 10, Train Loss: 0.2668, Train Accuracy: 90.14%, Test Loss: 0.2546, Test Accuracy: 90.90%\n",
      "\n",
      "\n",
      "Total Time Elapsed: 3536.5908648967743 s\n"
     ]
    }
   ],
   "source": [
    "PretrainedVGGModel = torch.hub.load('pytorch/vision:v0.7.0', 'vgg16', pretrained=True).to(device)\n",
    "writer = SummaryWriter('logs/tensorboard/VGG/PretrainedVGG')\n",
    "\n",
    "# defining hyperparameters\n",
    "learning_rate = 0.001\n",
    "num_epochs = 10\n",
    "\n",
    "criterion = nn.CrossEntropyLoss()\n",
    "optimizer = optim.Adam(PretrainedVGGModel.parameters(), lr=learning_rate)\n",
    "\n",
    "train(PretrainedVGGModel, criterion, optimizer, num_epochs, vgg_channel_train_loader, vgg_channel_test_loader)"
   ]
  },
  {
   "cell_type": "code",
   "execution_count": null,
   "id": "261d4095-b7d8-482a-bc80-287f2bcd5032",
   "metadata": {},
   "outputs": [],
   "source": []
  }
 ],
 "metadata": {
  "kernelspec": {
   "display_name": "Python [conda env:root]",
   "language": "python",
   "name": "conda-root-py"
  },
  "language_info": {
   "codemirror_mode": {
    "name": "ipython",
    "version": 3
   },
   "file_extension": ".py",
   "mimetype": "text/x-python",
   "name": "python",
   "nbconvert_exporter": "python",
   "pygments_lexer": "ipython3",
   "version": "3.7.6"
  }
 },
 "nbformat": 4,
 "nbformat_minor": 5
}
